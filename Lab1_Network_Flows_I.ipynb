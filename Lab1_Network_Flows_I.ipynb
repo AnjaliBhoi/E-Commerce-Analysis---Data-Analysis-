{
  "cells": [
    {
      "cell_type": "markdown",
      "metadata": {
        "id": "itlUByOfRINO"
      },
      "source": [
        "# MP305 Network Flow Models I"
      ]
    },
    {
      "cell_type": "code",
      "execution_count": 1,
      "metadata": {
        "id": "yiipIPlaRINQ"
      },
      "outputs": [],
      "source": [
        "from IPython.display import display, Math, Latex"
      ]
    },
    {
      "cell_type": "markdown",
      "metadata": {
        "id": "gfkmxqx3RINR"
      },
      "source": [
        "## Overview\n",
        "\n",
        "This file contains a number of Python functions for finding the maximal flow through a network $G$ subject to minimal cost using the Ford Fulkerson Algorithm.\n",
        "\n",
        "The network graph $G$ is stored in a set `G` of two element tuples `(i,j)` describing the directed arcs $(i,j)$ of $G$.\n",
        "\n",
        "It is assumed that node number $1$ is the source and the greatest node `Nsink` is the sink.  \n",
        "Thus `G={(1,2),(2,3),(1,3)}`  describes a network with 3 nodes where node 1 is the source and node 3 is the sink.\n",
        "\n",
        "The capacity $c(i,j)$, flow $\\phi(i,j)$ and cost $l(i,j)$ of the arc $(i,j)$ of $G$ are stored in `c[i][j]`, `phi[i][j]` and `l[i][j]`.\n",
        "Here `c`, `phi` and `l` are Python lists.\n",
        "\n",
        "## Python Functions\n",
        "### The `Initialise(G)` function\n",
        "Having defined the network $G$, initialise `c`, `phi` and `l` values to zero via the `Initialise` function before defining their values in any particular example.  The global variable `Nsink`,  the sink node of $G$, is also found by the `Initialise` function .\n",
        "\n",
        "### The main `Iterate(G)`function\n",
        "This implements the full algorithm to find the maximum flow with minimal cost."
      ]
    },
    {
      "cell_type": "code",
      "execution_count": null,
      "metadata": {
        "id": "UVv_D1QzRINT"
      },
      "outputs": [],
      "source": []
    },
    {
      "cell_type": "markdown",
      "metadata": {
        "id": "mgZPalTjRINU"
      },
      "source": [
        "## The `Iterate(G)` function is based on a number of other Python functions:\n",
        "\n",
        "### `Flows(G)`\n",
        "This checks for conservation of flow and prints out all of the current flows for G and the total cost of this flow.\n",
        "\n",
        "###  `Links(G)`\n",
        "This finds all arcs `(i,j1)`, ` (i,j2)`,  ... *out* of node `i` of `G`.  The nodes `j1,j2,..` are stored in a global list of sets `Out`.\n",
        "\n",
        "###  `SourceSink(G)`\n",
        "This finds all of the paths from source to sink in any network `G` and results in a global set `SinkPaths` of such paths.\n",
        "\n",
        "###  `IncremNet(G)`\n",
        "This finds the Incremental Network `Gp` associated with the current flow of the network `G`.\n",
        "\n",
        "###  `Newflows(G)`\n",
        "This updates the flows `phi` of `G` according to the best chain found through `Gp`. If the maximal flow is reached, then this is indicated and the maximum flow value is outputed. Otherwise, the output is: the change in flow (`eps`), the cost of the best chain, and the best chain.\n",
        "\n",
        "###  `Iterate(G)`\n",
        "Implements the full algorithm to find the maximum flow with minimal cost.\n",
        "The output is as follows:\n",
        "\n",
        "(1) The incremental network `Gp`.\n",
        "\n",
        "(2) The paths through `Gp` from source to sink.\n",
        "\n",
        "(3) The output of `Newflows(G)`.\n",
        "\n",
        "(4) The output of `Flows(G)` giving the current flows and cost of `G`.\n"
      ]
    },
    {
      "cell_type": "code",
      "execution_count": null,
      "metadata": {
        "id": "I1LK51RaRINU"
      },
      "outputs": [],
      "source": []
    },
    {
      "cell_type": "code",
      "execution_count": 2,
      "metadata": {
        "id": "v8RlgSODRINV"
      },
      "outputs": [],
      "source": [
        "def Initialise (Gin):\n",
        "    global c,phi,l,cp,lp,Nsink\n",
        "    Nsink=1\n",
        "    for arc in Gin:\n",
        "        i,j=arc\n",
        "        Nsink=max(Nsink,i,j)\n",
        "    # for convenience c[i][j] is capacity of arc [i,j]\n",
        "    c=[[0 for i in range(Nsink+1)] for j in range(Nsink+1)]\n",
        "    phi=[[0 for i in range(Nsink+1)] for j in range(Nsink+1)]\n",
        "    l=[[0 for i in range(Nsink+1)] for j in range(Nsink+1)]\n",
        "    cp=[[0 for i in range(Nsink+1)] for j in range(Nsink+1)]\n",
        "    lp=[[0 for i in range(Nsink+1)] for j in range(Nsink+1)]\n",
        "    print(\"All values of c,phi and l initialised to zero\")\n"
      ]
    },
    {
      "cell_type": "code",
      "execution_count": 3,
      "metadata": {
        "id": "3Zt2A6yeRINV"
      },
      "outputs": [],
      "source": [
        "def Flows (Gin):\n",
        "    global Nsink,l,phi\n",
        "    Flowin=[0 for i in range(Nsink+1)]\n",
        "    Flowout=[0 for i in range(Nsink+1)]\n",
        "    for arc in Gin:\n",
        "        i,j=arc\n",
        "        Flowin[j] = Flowin[j] + phi[i][j]\n",
        "        Flowout[i] = Flowout[i] + phi[i][j]\n",
        "    for k in range(2,Nsink):\n",
        "        if Flowin[k] != Flowout[k]:\n",
        "            print(\"*** ERROR *** Flow not conserved at node\", k)\n",
        "    if Flowout[1] != Flowin[Nsink]:\n",
        "        print(\"*** ERROR *** Flow not conserved at source or sink\")\n",
        "    Totalcost = 0\n",
        "    for arc in Gin:\n",
        "        i,j=arc\n",
        "        phi_ij = phi[i][j]\n",
        "        Totalcost = Totalcost + l[i][j]*phi_ij\n",
        "        print(arc,\" has flow \",phi_ij)\n",
        "    print(\"Total Cost is \", Totalcost)\n"
      ]
    },
    {
      "cell_type": "code",
      "execution_count": 4,
      "metadata": {
        "id": "tBqYf1lzRINW"
      },
      "outputs": [],
      "source": [
        "def Links (Gin):\n",
        "    global Nsink,Out\n",
        "    Out=[set() for k in range(Nsink)] # labelled 0..Nsink-1\n",
        "    for arc in Gin:\n",
        "        i,j = arc\n",
        "        Out[i - 1] = Out[i - 1] | set([j])"
      ]
    },
    {
      "cell_type": "code",
      "execution_count": 5,
      "metadata": {
        "id": "CFBHv0vwRINW"
      },
      "outputs": [],
      "source": [
        "def SourceSink(Gin):\n",
        "# finds all paths SinkPaths from source 1 to sink Nsink of network G\n",
        "    global Nsink,SinkPaths\n",
        "    Links(Gin)\n",
        "    Paths = set() # current paths from source stored as set of tuples\n",
        "    SinkPaths = set() # paths from source to sink Nsink stored as set of tuples\n",
        "    path = 1 # source node label\n",
        "    for node in Out[0]:# need out edge from node 1\n",
        "        pathn = (path,node)\n",
        "        if node == Nsink:\n",
        "            SinkPaths = SinkPaths | set([pathn])\n",
        "        else:\n",
        "            Paths = Paths | set([pathn])\n",
        "    Npaths = len(Paths)\n",
        "    while (0 < Npaths):\n",
        "        NewPaths = set()\n",
        "        for oldpath in Paths:\n",
        "            nold = len(oldpath)\n",
        "            m = oldpath[-1] # last node in tuple oldpath\n",
        "            for mout in Out[m-1]:\n",
        "                if not mout in oldpath:\n",
        "                    if mout == Nsink:\n",
        "                        SinkPaths = SinkPaths | set([oldpath+tuple([Nsink])])\n",
        "                    else:\n",
        "                        NewPaths = NewPaths | set([oldpath+tuple([mout])])\n",
        "        Paths = NewPaths\n",
        "        Npaths = len(Paths)\n",
        "    print(\"Paths from source to sink: \",SinkPaths)"
      ]
    },
    {
      "cell_type": "code",
      "execution_count": 6,
      "metadata": {
        "id": "3irz1jy-RINX"
      },
      "outputs": [],
      "source": [
        "def IncremNet(Gin):\n",
        "# procedure to create incremental network Gp from given flow network G\n",
        "    global Gp,Nsink,phi,c,l,cp,lp,ArcSign\n",
        "# define lists for ArcSign, cp and lp  (indexed by 0..Nsink-1)\n",
        "    cp=[[0 for i in range(Nsink+1)] for j in range(Nsink+1)]\n",
        "    lp=[[0 for i in range(Nsink+1)] for j in range(Nsink+1)]\n",
        "    ArcSign=[[0 for i in range(Nsink+1)] for j in range(Nsink+1)]\n",
        "    Gp=set([])\n",
        "    for arc in Gin:\n",
        "        i,j=arc\n",
        "        pij = phi[i][j]; pji = phi[j][i]; cij = c[i][j]; lij = l[i][j]\n",
        "        if (pij < cij and (pji == 0 or not (j,i) in Gin)): # ij arc\n",
        "            #Gp edges, capacitites and costs added\n",
        "            cpij = cij - pij; cp[i][j] = cpij; lpij = lij; lp[i][j] =lpij\n",
        "            ArcSign[i][j] = 1\n",
        "            Gp=Gp | {(i,j)}\n",
        "        if pij>0: # ji arc\n",
        "            cpji = pij; cp[j][i] = cpji; lpji=-lij; lp[j][i] = lpji\n",
        "            ArcSign[j][i] = -1\n",
        "            Gp=Gp | {(j,i)}\n",
        "    print(\"Incremental Network:\",Gp)"
      ]
    },
    {
      "cell_type": "code",
      "execution_count": 7,
      "metadata": {
        "id": "KD2qBfOVRINX"
      },
      "outputs": [],
      "source": [
        "def Newflows(Gin):\n",
        "# A procedure to modify original flows on Gin along SinkPaths of Gp with minimal cost\n",
        "    global Gp,phi,c,l,cp,lp,ArcSign,Out\n",
        "    SourceSink(Gp)\n",
        "    if SinkPaths == set():\n",
        "        Links(Gin)\n",
        "        Flow = 0\n",
        "        for node in Out[0]:\n",
        "            Flow = Flow + phi[1][node]\n",
        "        Cost=0\n",
        "        for arc in Gin:\n",
        "            i,j=arc\n",
        "            Cost=Cost+l[i][j]*phi[i][j]\n",
        "        print(\"Maximal flow found:\", Flow, \" with minimal cost \", Cost)\n",
        "    else:\n",
        "        for k in range(len(SinkPaths)):\n",
        "            cost = 0\n",
        "            epset = set()\n",
        "            path=list(SinkPaths)[k]\n",
        "            for n in range(0, len(path)-1):\n",
        "                i = path[n]; j = path[n+1];  epset = epset | set([cp[i][j]]); cost = lp[i][j] + cost\n",
        "            eps = min(tuple(epset))\n",
        "            if k == 0: # first path\n",
        "                mincost = cost; bestpath = path; besteps = eps\n",
        "            elif cost < mincost:\n",
        "                mincost = cost; bestpath = path; besteps = eps\n",
        "        print(\"A best path in Gp is \", bestpath, \" of minimum cost \", mincost)\n",
        "        print(\"The min capacity on this path is epsilon \", besteps)\n",
        "        print(\"The min cost is \", mincost)\n",
        "        for k in range(0, len(bestpath) - 1):\n",
        "            i = bestpath[k]; j = bestpath[k+1]\n",
        "            if ArcSign[i][j] == 1:\n",
        "                phinewij = phi[i][j] + besteps; phi[i][j]=phinewij\n",
        "            else:\n",
        "                phinewji=phi[j][i] = phi[j][i] - besteps; phi[j][i]=phinewji\n",
        "    #print(\"Flow=\",Flow)"
      ]
    },
    {
      "cell_type": "code",
      "execution_count": 8,
      "metadata": {
        "id": "2var7bmSRINX"
      },
      "outputs": [],
      "source": [
        "def Iterate(Gin):\n",
        "    IncremNet(Gin)\n",
        "    Newflows(Gin)\n",
        "    for arc in Gin:\n",
        "        i,j=arc\n",
        "        print((i,j),\" flow = \", phi[i][j])"
      ]
    },
    {
      "cell_type": "code",
      "execution_count": null,
      "metadata": {
        "id": "OPdURY3URINY"
      },
      "outputs": [],
      "source": []
    },
    {
      "cell_type": "code",
      "execution_count": null,
      "metadata": {
        "id": "CO5UEvDpRINY"
      },
      "outputs": [],
      "source": []
    },
    {
      "cell_type": "markdown",
      "metadata": {
        "id": "D5CQAMHCRINY"
      },
      "source": [
        "# Example 1. The first example discussed in lectures.\n",
        "## The capacity $c(i,j)$ and flow $\\phi(i,j)$ are shown on each arc $(i,j)$\n",
        "\n",
        "![Network](https://github.com/mcgettrick/mp305/blob/main/Lab1_1.jpg?raw=1)\n"
      ]
    },
    {
      "cell_type": "markdown",
      "metadata": {
        "id": "hK3aFMPnRINY"
      },
      "source": [
        "### \\* Find the incremental network and capacities at each iteration of the Ford Fulkerson algorithm.\n",
        "### \\* In the last iteration when the maximal flow is found,  identify which arcs are normal and which are inverted in the incremental network.\n",
        "### \\* Hence find the minimal capacity cut of this network flow model."
      ]
    },
    {
      "cell_type": "code",
      "execution_count": 9,
      "metadata": {
        "id": "5wH7yRbjRINY"
      },
      "outputs": [],
      "source": [
        "G={(1,2),(1,3),(2,3),(2,4),(2,5),(3,5),(4,6),(5,4),(5,6)}"
      ]
    },
    {
      "cell_type": "code",
      "execution_count": 10,
      "metadata": {
        "id": "mZ8Eo5suRINZ",
        "outputId": "3fe2f5b1-5252-48f8-f91b-61c06d8cb8b0",
        "colab": {
          "base_uri": "https://localhost:8080/"
        }
      },
      "outputs": [
        {
          "output_type": "stream",
          "name": "stdout",
          "text": [
            "All values of c,phi and l initialised to zero\n"
          ]
        }
      ],
      "source": [
        "Initialise (G)"
      ]
    },
    {
      "cell_type": "code",
      "execution_count": 11,
      "metadata": {
        "id": "kmeaguNtRINZ",
        "outputId": "5093e6d7-636d-4b2f-b5f8-6b95648180f3",
        "colab": {
          "base_uri": "https://localhost:8080/"
        }
      },
      "outputs": [
        {
          "output_type": "stream",
          "name": "stdout",
          "text": [
            "(2, 4)  has flow  0\n",
            "(1, 2)  has flow  0\n",
            "(5, 4)  has flow  0\n",
            "(4, 6)  has flow  0\n",
            "(2, 3)  has flow  0\n",
            "(5, 6)  has flow  0\n",
            "(2, 5)  has flow  0\n",
            "(1, 3)  has flow  0\n",
            "(3, 5)  has flow  0\n",
            "Total Cost is  0\n"
          ]
        }
      ],
      "source": [
        "Flows(G)"
      ]
    },
    {
      "cell_type": "markdown",
      "metadata": {
        "id": "tkxXdXDERINZ"
      },
      "source": [
        "## Define Capacities"
      ]
    },
    {
      "cell_type": "code",
      "execution_count": 12,
      "metadata": {
        "id": "wrpfe_0HRINZ"
      },
      "outputs": [],
      "source": [
        "c[1][2] = 4; c[1][3] = 5; c[2][3] = 2\n",
        "c[2][4] = 1; c[2][5] = 4; c[3][5] = 3\n",
        "c[4][6] = 2; c[5][4] = 2; c[5][6] = 6"
      ]
    },
    {
      "cell_type": "markdown",
      "metadata": {
        "id": "slE64-YCRINZ"
      },
      "source": [
        "## Define Flows"
      ]
    },
    {
      "cell_type": "code",
      "execution_count": 13,
      "metadata": {
        "id": "2s1SWmk1RINZ"
      },
      "outputs": [],
      "source": [
        "phi[1][2]=4; phi[1][3]=1; phi[2][3]=2; phi[2][4]=1; phi[2][5]=1\n",
        "phi[3][5]=3; phi[4][6]=2; phi[5][4]=1; phi[5][6]=3"
      ]
    },
    {
      "cell_type": "code",
      "execution_count": 14,
      "metadata": {
        "id": "ErZec1V9RINZ",
        "outputId": "726b8660-cda6-438d-ee1a-358595e56b0d",
        "colab": {
          "base_uri": "https://localhost:8080/"
        }
      },
      "outputs": [
        {
          "output_type": "stream",
          "name": "stdout",
          "text": [
            "(2, 4)  has flow  1\n",
            "(1, 2)  has flow  4\n",
            "(5, 4)  has flow  1\n",
            "(4, 6)  has flow  2\n",
            "(2, 3)  has flow  2\n",
            "(5, 6)  has flow  3\n",
            "(2, 5)  has flow  1\n",
            "(1, 3)  has flow  1\n",
            "(3, 5)  has flow  3\n",
            "Total Cost is  0\n"
          ]
        }
      ],
      "source": [
        "Flows(G)"
      ]
    },
    {
      "cell_type": "markdown",
      "metadata": {
        "id": "0Se2RCq0RINZ"
      },
      "source": [
        "## Use `Iterate` to run one iteration of the Ford Fulkerson Algorithm"
      ]
    },
    {
      "cell_type": "code",
      "execution_count": 15,
      "metadata": {
        "id": "LNVn7f1jRINZ",
        "outputId": "276ec16b-ad26-44f8-cf4d-71b68ce22154",
        "colab": {
          "base_uri": "https://localhost:8080/"
        }
      },
      "outputs": [
        {
          "output_type": "stream",
          "name": "stdout",
          "text": [
            "Incremental Network: {(2, 1), (6, 5), (3, 1), (5, 4), (6, 4), (4, 2), (4, 5), (5, 6), (5, 3), (3, 2), (2, 5), (1, 3), (5, 2)}\n",
            "Paths from source to sink:  {(1, 3, 2, 5, 6)}\n",
            "A best path in Gp is  (1, 3, 2, 5, 6)  of minimum cost  0\n",
            "The min capacity on this path is epsilon  2\n",
            "The min cost is  0\n",
            "(2, 4)  flow =  1\n",
            "(1, 2)  flow =  4\n",
            "(5, 4)  flow =  1\n",
            "(4, 6)  flow =  2\n",
            "(2, 3)  flow =  0\n",
            "(5, 6)  flow =  5\n",
            "(2, 5)  flow =  3\n",
            "(1, 3)  flow =  3\n",
            "(3, 5)  flow =  3\n"
          ]
        }
      ],
      "source": [
        "Iterate(G)"
      ]
    },
    {
      "cell_type": "code",
      "execution_count": 16,
      "metadata": {
        "id": "jSd9tLXeRINZ",
        "outputId": "8ff2f791-ae24-479f-b974-e13e3ae5f466",
        "colab": {
          "base_uri": "https://localhost:8080/"
        }
      },
      "outputs": [
        {
          "output_type": "stream",
          "name": "stdout",
          "text": [
            "Incremental Network: {(2, 1), (6, 5), (3, 1), (5, 4), (6, 4), (4, 2), (2, 3), (4, 5), (5, 6), (5, 3), (2, 5), (1, 3), (5, 2)}\n",
            "Paths from source to sink:  set()\n",
            "Maximal flow found: 7  with minimal cost  0\n",
            "(2, 4)  flow =  1\n",
            "(1, 2)  flow =  4\n",
            "(5, 4)  flow =  1\n",
            "(4, 6)  flow =  2\n",
            "(2, 3)  flow =  0\n",
            "(5, 6)  flow =  5\n",
            "(2, 5)  flow =  3\n",
            "(1, 3)  flow =  3\n",
            "(3, 5)  flow =  3\n"
          ]
        }
      ],
      "source": [
        "Iterate(G)"
      ]
    },
    {
      "cell_type": "code",
      "execution_count": null,
      "metadata": {
        "id": "RKzVldc_RINa"
      },
      "outputs": [],
      "source": []
    },
    {
      "cell_type": "code",
      "execution_count": null,
      "metadata": {
        "id": "800pz_BZRINa"
      },
      "outputs": [],
      "source": []
    },
    {
      "cell_type": "markdown",
      "metadata": {
        "id": "v-QOYfsoRINa"
      },
      "source": [
        "## In the following two problems, first define the network and  its capacities following the template of problem 1 and then run the `Python`|code.\n",
        "\n",
        "\n"
      ]
    },
    {
      "cell_type": "markdown",
      "metadata": {
        "id": "uUmWxJcHRINa"
      },
      "source": [
        "## Q.2 (*) . Find the maximal flow through the following network with the given capacities:\n",
        "![Network](https://github.com/mcgettrick/mp305/blob/main/Lab1_2.jpg?raw=1)"
      ]
    },
    {
      "cell_type": "code",
      "execution_count": 34,
      "metadata": {
        "id": "-rIgCuKMRINa"
      },
      "outputs": [],
      "source": [
        "G = {(1,2), (1,3), (2,5), (4,5), (3,4),(2,3),(3,2), (4,2)}"
      ]
    },
    {
      "cell_type": "code",
      "source": [
        "Initialise (G)"
      ],
      "metadata": {
        "id": "syufCSaJb-EV",
        "outputId": "c813a4fa-ffdf-4b01-aa04-5a12cf0e30ab",
        "colab": {
          "base_uri": "https://localhost:8080/"
        }
      },
      "execution_count": 35,
      "outputs": [
        {
          "output_type": "stream",
          "name": "stdout",
          "text": [
            "All values of c,phi and l initialised to zero\n"
          ]
        }
      ]
    },
    {
      "cell_type": "code",
      "source": [
        "Flows(G)"
      ],
      "metadata": {
        "id": "cmDNm37rb_f9",
        "outputId": "57e97ac8-0549-409a-fda3-e946549578f4",
        "colab": {
          "base_uri": "https://localhost:8080/"
        }
      },
      "execution_count": 36,
      "outputs": [
        {
          "output_type": "stream",
          "name": "stdout",
          "text": [
            "(1, 2)  has flow  0\n",
            "(3, 4)  has flow  0\n",
            "(4, 2)  has flow  0\n",
            "(2, 3)  has flow  0\n",
            "(4, 5)  has flow  0\n",
            "(3, 2)  has flow  0\n",
            "(2, 5)  has flow  0\n",
            "(1, 3)  has flow  0\n",
            "Total Cost is  0\n"
          ]
        }
      ]
    },
    {
      "cell_type": "code",
      "source": [
        "#Capacities\n",
        "c[1][2]=2; c[1][3]=4; c[2][3]=1\n",
        "c[3][2]=4; c[2][5]=3; c[3][4]=2\n",
        "c[4][2]=2; c[4][5]=3"
      ],
      "metadata": {
        "id": "EItkoxrzdQj0"
      },
      "execution_count": 37,
      "outputs": []
    },
    {
      "cell_type": "code",
      "source": [
        "phi[1][2]=0; phi[1][3]=0; phi[2][3]=0\n",
        "phi[3][2]=0; phi[2][5]=0; phi[3][4]=0\n",
        "phi[4][2]=0; phi[4][5]=0"
      ],
      "metadata": {
        "id": "qP58N97zej1y"
      },
      "execution_count": 38,
      "outputs": []
    },
    {
      "cell_type": "code",
      "source": [
        "Flows(G)"
      ],
      "metadata": {
        "id": "4X5u6j9qfGmR",
        "outputId": "cf20a7b5-a02b-487f-a1c1-8fc60c4dfc07",
        "colab": {
          "base_uri": "https://localhost:8080/"
        }
      },
      "execution_count": 39,
      "outputs": [
        {
          "output_type": "stream",
          "name": "stdout",
          "text": [
            "(1, 2)  has flow  0\n",
            "(3, 4)  has flow  0\n",
            "(4, 2)  has flow  0\n",
            "(2, 3)  has flow  0\n",
            "(4, 5)  has flow  0\n",
            "(3, 2)  has flow  0\n",
            "(2, 5)  has flow  0\n",
            "(1, 3)  has flow  0\n",
            "Total Cost is  0\n"
          ]
        }
      ]
    },
    {
      "cell_type": "code",
      "source": [
        "Iterate(G)"
      ],
      "metadata": {
        "id": "nR2xXrSTfOD5",
        "outputId": "c2bd4576-515d-4b73-90d7-998291646f73",
        "colab": {
          "base_uri": "https://localhost:8080/"
        }
      },
      "execution_count": 40,
      "outputs": [
        {
          "output_type": "stream",
          "name": "stdout",
          "text": [
            "Incremental Network: {(2, 3), (4, 5), (1, 2), (3, 4), (3, 2), (2, 5), (1, 3), (4, 2)}\n",
            "Paths from source to sink:  {(1, 3, 4, 2, 5), (1, 3, 4, 5), (1, 2, 5), (1, 2, 3, 4, 5), (1, 3, 2, 5)}\n",
            "A best path in Gp is  (1, 3, 4, 2, 5)  of minimum cost  0\n",
            "The min capacity on this path is epsilon  2\n",
            "The min cost is  0\n",
            "(1, 2)  flow =  0\n",
            "(3, 4)  flow =  2\n",
            "(4, 2)  flow =  2\n",
            "(2, 3)  flow =  0\n",
            "(4, 5)  flow =  0\n",
            "(3, 2)  flow =  0\n",
            "(2, 5)  flow =  2\n",
            "(1, 3)  flow =  2\n"
          ]
        }
      ]
    },
    {
      "cell_type": "code",
      "source": [
        "Iterate(G)"
      ],
      "metadata": {
        "id": "bxCtyqptfT6q",
        "outputId": "37b0326b-6c6c-41ac-a95d-3f88ba0ae9a4",
        "colab": {
          "base_uri": "https://localhost:8080/"
        }
      },
      "execution_count": 41,
      "outputs": [
        {
          "output_type": "stream",
          "name": "stdout",
          "text": [
            "Incremental Network: {(2, 4), (1, 2), (4, 3), (3, 1), (2, 3), (4, 5), (3, 2), (2, 5), (1, 3), (5, 2)}\n",
            "Paths from source to sink:  {(1, 3, 2, 5), (1, 3, 2, 4, 5), (1, 2, 4, 5), (1, 2, 5)}\n",
            "A best path in Gp is  (1, 3, 2, 5)  of minimum cost  0\n",
            "The min capacity on this path is epsilon  1\n",
            "The min cost is  0\n",
            "(1, 2)  flow =  0\n",
            "(3, 4)  flow =  2\n",
            "(4, 2)  flow =  2\n",
            "(2, 3)  flow =  0\n",
            "(4, 5)  flow =  0\n",
            "(3, 2)  flow =  1\n",
            "(2, 5)  flow =  3\n",
            "(1, 3)  flow =  3\n"
          ]
        }
      ]
    },
    {
      "cell_type": "code",
      "source": [
        "Iterate(G)"
      ],
      "metadata": {
        "id": "gDWDM8nIfsiZ",
        "outputId": "b81d84cf-81a3-4ddd-f7e9-7d83d9523547",
        "colab": {
          "base_uri": "https://localhost:8080/"
        }
      },
      "execution_count": 42,
      "outputs": [
        {
          "output_type": "stream",
          "name": "stdout",
          "text": [
            "Incremental Network: {(2, 4), (1, 2), (4, 3), (3, 1), (2, 3), (4, 5), (3, 2), (1, 3), (5, 2)}\n",
            "Paths from source to sink:  {(1, 3, 2, 4, 5), (1, 2, 4, 5)}\n",
            "A best path in Gp is  (1, 3, 2, 4, 5)  of minimum cost  0\n",
            "The min capacity on this path is epsilon  1\n",
            "The min cost is  0\n",
            "(1, 2)  flow =  0\n",
            "(3, 4)  flow =  2\n",
            "(4, 2)  flow =  1\n",
            "(2, 3)  flow =  0\n",
            "(4, 5)  flow =  1\n",
            "(3, 2)  flow =  2\n",
            "(2, 5)  flow =  3\n",
            "(1, 3)  flow =  4\n"
          ]
        }
      ]
    },
    {
      "cell_type": "code",
      "source": [
        "Iterate(G)"
      ],
      "metadata": {
        "id": "l4XAWoIBfu-y",
        "outputId": "d16cf5d0-975b-46c8-de11-a292d1c56692",
        "colab": {
          "base_uri": "https://localhost:8080/"
        }
      },
      "execution_count": 43,
      "outputs": [
        {
          "output_type": "stream",
          "name": "stdout",
          "text": [
            "Incremental Network: {(2, 4), (1, 2), (4, 3), (3, 1), (5, 4), (4, 2), (2, 3), (4, 5), (3, 2), (5, 2)}\n",
            "Paths from source to sink:  {(1, 2, 4, 5)}\n",
            "A best path in Gp is  (1, 2, 4, 5)  of minimum cost  0\n",
            "The min capacity on this path is epsilon  1\n",
            "The min cost is  0\n",
            "(1, 2)  flow =  1\n",
            "(3, 4)  flow =  2\n",
            "(4, 2)  flow =  0\n",
            "(2, 3)  flow =  0\n",
            "(4, 5)  flow =  2\n",
            "(3, 2)  flow =  2\n",
            "(2, 5)  flow =  3\n",
            "(1, 3)  flow =  4\n"
          ]
        }
      ]
    },
    {
      "cell_type": "code",
      "source": [
        "Iterate(G)"
      ],
      "metadata": {
        "id": "IvAZ9QBGfxxH",
        "outputId": "d64cdb07-d9e7-45ec-a73a-c169329757d8",
        "colab": {
          "base_uri": "https://localhost:8080/"
        }
      },
      "execution_count": 44,
      "outputs": [
        {
          "output_type": "stream",
          "name": "stdout",
          "text": [
            "Incremental Network: {(1, 2), (2, 1), (4, 3), (3, 1), (5, 4), (4, 2), (2, 3), (4, 5), (3, 2), (5, 2)}\n",
            "Paths from source to sink:  set()\n",
            "Maximal flow found: 5  with minimal cost  0\n",
            "(1, 2)  flow =  1\n",
            "(3, 4)  flow =  2\n",
            "(4, 2)  flow =  0\n",
            "(2, 3)  flow =  0\n",
            "(4, 5)  flow =  2\n",
            "(3, 2)  flow =  2\n",
            "(2, 5)  flow =  3\n",
            "(1, 3)  flow =  4\n"
          ]
        }
      ]
    },
    {
      "cell_type": "markdown",
      "metadata": {
        "id": "myrkZueMRINa"
      },
      "source": [
        "##  Define the network `G` and the capacities `c[i][j]` for the given data and follow the same sequence of steps as for Q.1 with zero initial flow.\n",
        "### \\* Set the initial flow to zero at each arc and find the incremental network and capacities at each iteration of the Ford-Fulkerson algorithm.\n",
        "### \\* In the last iteration when the maximal flow is found,  identify which arcs are normal and which are inverted in the incremental network.\n",
        "### \\* Hence find the minimal capacity cut of this network flow model."
      ]
    },
    {
      "cell_type": "code",
      "execution_count": null,
      "metadata": {
        "id": "2mpCSFt-RINb"
      },
      "outputs": [],
      "source": []
    },
    {
      "cell_type": "code",
      "execution_count": null,
      "metadata": {
        "id": "zwtq3qeORINb"
      },
      "outputs": [],
      "source": []
    },
    {
      "cell_type": "markdown",
      "metadata": {
        "id": "F6Y8GOYnRINb"
      },
      "source": [
        "## Q.3 (*) A road network is shown below with the capacity on each road indicated. Notice that many roads are two way.\n",
        "![Network](https://github.com/mcgettrick/mp305/blob/main/Lab1_3.jpg?raw=1)\n",
        "### \\* Find the maximal flow through the network from `A` to `B`.\n",
        "### \\* Compare this to maximal flow from `B`  to `A` ."
      ]
    },
    {
      "cell_type": "code",
      "execution_count": 45,
      "metadata": {
        "id": "pnwt9QN4RINb"
      },
      "outputs": [],
      "source": [
        "G = {(1,2), (1,4), (2,1), (4,1), (2,3), (4,5), (5,4), (5,2), (3,6), (3,8), (8,3), (5,6), (6,5), (4,7), (7,6), (7,8), (8,7)}"
      ]
    },
    {
      "cell_type": "code",
      "execution_count": 46,
      "metadata": {
        "id": "TuW8z3CGRINb",
        "outputId": "b9df8a4a-96ba-4212-ffe7-35e062bcc988",
        "colab": {
          "base_uri": "https://localhost:8080/"
        }
      },
      "outputs": [
        {
          "output_type": "stream",
          "name": "stdout",
          "text": [
            "All values of c,phi and l initialised to zero\n"
          ]
        }
      ],
      "source": [
        "Initialise (G)"
      ]
    },
    {
      "cell_type": "code",
      "execution_count": 49,
      "metadata": {
        "id": "GLhAtsAoRINk"
      },
      "outputs": [],
      "source": [
        "c[1][2] = 5; c[1][4] = 4; c[2][1] = 5; c[4][1] = 4\n",
        "c[2][3] = 3; c[4][5] = 4; c[5][4] = 4; c[5][2] = 4\n",
        "c[3][6] = 2; c[3][8] = 3; c[8][3] = 6; c[5][6] = 5\n",
        "c[6][5] = 5; c[4][7] = 3; c[7][6] = 4; c[7][8] = 4\n",
        "c[8][7] = 4"
      ]
    },
    {
      "cell_type": "code",
      "source": [
        "phi[1][2] = 0; phi[1][4] = 0; phi[2][1] = 0; phi[4][1] = 0\n",
        "phi[2][3] = 0; phi[4][5] = 0; phi[5][4] = 0; phi[5][2] = 0\n",
        "phi[3][6] = 0; phi[3][8] = 0; phi[8][3] = 0; phi[5][6] = 0\n",
        "phi[6][5] = 0; phi[4][7] = 0; phi[7][6] = 0; phi[7][8] = 0\n",
        "phi[8][7] = 0"
      ],
      "metadata": {
        "id": "e4j1dyEnym9O"
      },
      "execution_count": 50,
      "outputs": []
    },
    {
      "cell_type": "code",
      "source": [
        "Flows(G)"
      ],
      "metadata": {
        "id": "OrIrT-opzNUz",
        "outputId": "c134f94f-67a3-4cad-9a16-770b200a9a95",
        "colab": {
          "base_uri": "https://localhost:8080/"
        }
      },
      "execution_count": 51,
      "outputs": [
        {
          "output_type": "stream",
          "name": "stdout",
          "text": [
            "(1, 2)  has flow  0\n",
            "(2, 1)  has flow  0\n",
            "(5, 4)  has flow  0\n",
            "(8, 3)  has flow  0\n",
            "(7, 6)  has flow  0\n",
            "(4, 1)  has flow  0\n",
            "(4, 7)  has flow  0\n",
            "(5, 2)  has flow  0\n",
            "(3, 8)  has flow  0\n",
            "(6, 5)  has flow  0\n",
            "(8, 7)  has flow  0\n",
            "(1, 4)  has flow  0\n",
            "(2, 3)  has flow  0\n",
            "(4, 5)  has flow  0\n",
            "(5, 6)  has flow  0\n",
            "(3, 6)  has flow  0\n",
            "(7, 8)  has flow  0\n",
            "Total Cost is  0\n"
          ]
        }
      ]
    },
    {
      "cell_type": "code",
      "source": [
        "Iterate(G)"
      ],
      "metadata": {
        "id": "uFV_3HrZzOjP",
        "outputId": "8b47fd22-c04e-43b5-93f0-acd18b05330c",
        "colab": {
          "base_uri": "https://localhost:8080/"
        }
      },
      "execution_count": 52,
      "outputs": [
        {
          "output_type": "stream",
          "name": "stdout",
          "text": [
            "Incremental Network: {(1, 2), (2, 1), (5, 4), (8, 3), (7, 6), (4, 1), (4, 7), (5, 2), (3, 8), (6, 5), (8, 7), (1, 4), (2, 3), (4, 5), (5, 6), (3, 6), (7, 8)}\n",
            "Paths from source to sink:  {(1, 4, 7, 8), (1, 4, 5, 2, 3, 8), (1, 2, 3, 6, 5, 4, 7, 8), (1, 2, 3, 8), (1, 4, 7, 6, 5, 2, 3, 8)}\n",
            "A best path in Gp is  (1, 4, 7, 8)  of minimum cost  0\n",
            "The min capacity on this path is epsilon  3\n",
            "The min cost is  0\n",
            "(1, 2)  flow =  0\n",
            "(2, 1)  flow =  0\n",
            "(5, 4)  flow =  0\n",
            "(8, 3)  flow =  0\n",
            "(7, 6)  flow =  0\n",
            "(4, 1)  flow =  0\n",
            "(4, 7)  flow =  3\n",
            "(5, 2)  flow =  0\n",
            "(3, 8)  flow =  0\n",
            "(6, 5)  flow =  0\n",
            "(8, 7)  flow =  0\n",
            "(1, 4)  flow =  3\n",
            "(2, 3)  flow =  0\n",
            "(4, 5)  flow =  0\n",
            "(5, 6)  flow =  0\n",
            "(3, 6)  flow =  0\n",
            "(7, 8)  flow =  3\n"
          ]
        }
      ]
    },
    {
      "cell_type": "code",
      "source": [
        "Iterate(G)"
      ],
      "metadata": {
        "id": "sxUlm89FzSn1",
        "outputId": "62eaf570-19fd-402f-c4fc-eee0853d46df",
        "colab": {
          "base_uri": "https://localhost:8080/"
        }
      },
      "execution_count": 53,
      "outputs": [
        {
          "output_type": "stream",
          "name": "stdout",
          "text": [
            "Incremental Network: {(1, 2), (2, 1), (5, 4), (8, 3), (7, 6), (4, 1), (5, 2), (7, 4), (3, 8), (6, 5), (8, 7), (1, 4), (2, 3), (4, 5), (5, 6), (3, 6), (7, 8)}\n",
            "Paths from source to sink:  {(1, 2, 3, 8), (1, 4, 5, 2, 3, 8)}\n",
            "A best path in Gp is  (1, 2, 3, 8)  of minimum cost  0\n",
            "The min capacity on this path is epsilon  3\n",
            "The min cost is  0\n",
            "(1, 2)  flow =  3\n",
            "(2, 1)  flow =  0\n",
            "(5, 4)  flow =  0\n",
            "(8, 3)  flow =  0\n",
            "(7, 6)  flow =  0\n",
            "(4, 1)  flow =  0\n",
            "(4, 7)  flow =  3\n",
            "(5, 2)  flow =  0\n",
            "(3, 8)  flow =  3\n",
            "(6, 5)  flow =  0\n",
            "(8, 7)  flow =  0\n",
            "(1, 4)  flow =  3\n",
            "(2, 3)  flow =  3\n",
            "(4, 5)  flow =  0\n",
            "(5, 6)  flow =  0\n",
            "(3, 6)  flow =  0\n",
            "(7, 8)  flow =  3\n"
          ]
        }
      ]
    },
    {
      "cell_type": "code",
      "source": [
        "Iterate(G)"
      ],
      "metadata": {
        "id": "eiJy79Y5zULm",
        "outputId": "3f26c4cf-f52c-489c-c1ac-ac153a97fcd1",
        "colab": {
          "base_uri": "https://localhost:8080/"
        }
      },
      "execution_count": 54,
      "outputs": [
        {
          "output_type": "stream",
          "name": "stdout",
          "text": [
            "Incremental Network: {(7, 4), (1, 2), (2, 1), (6, 5), (8, 7), (5, 4), (1, 4), (8, 3), (7, 6), (4, 5), (5, 6), (3, 6), (3, 2), (4, 1), (7, 8), (5, 2)}\n",
            "Paths from source to sink:  set()\n",
            "Maximal flow found: 6  with minimal cost  0\n",
            "(1, 2)  flow =  3\n",
            "(2, 1)  flow =  0\n",
            "(5, 4)  flow =  0\n",
            "(8, 3)  flow =  0\n",
            "(7, 6)  flow =  0\n",
            "(4, 1)  flow =  0\n",
            "(4, 7)  flow =  3\n",
            "(5, 2)  flow =  0\n",
            "(3, 8)  flow =  3\n",
            "(6, 5)  flow =  0\n",
            "(8, 7)  flow =  0\n",
            "(1, 4)  flow =  3\n",
            "(2, 3)  flow =  3\n",
            "(4, 5)  flow =  0\n",
            "(5, 6)  flow =  0\n",
            "(3, 6)  flow =  0\n",
            "(7, 8)  flow =  3\n"
          ]
        }
      ]
    },
    {
      "cell_type": "code",
      "source": [
        "G = {(8,2), (8,4), (2,8), (4,8), (2,3), (4,5), (5,4), (5,2), (3,6), (3,1), (1,3), (5,6), (6,5), (4,7), (7,6), (7,1), (1,7)}"
      ],
      "metadata": {
        "id": "g2JXPl6Wzg_F"
      },
      "execution_count": 55,
      "outputs": []
    },
    {
      "cell_type": "code",
      "source": [
        "c[8][2] = 5; c[8][4] = 4; c[2][8] = 5; c[4][8] = 4\n",
        "c[2][3] = 3; c[4][5] = 4; c[5][4] = 4; c[5][2] = 4\n",
        "c[3][6] = 2; c[3][1] = 3; c[1][3] = 6; c[5][6] = 5\n",
        "c[6][5] = 5; c[4][7] = 3; c[7][6] = 4; c[7][1] = 4\n",
        "c[1][7] = 4"
      ],
      "metadata": {
        "id": "nWVi8aLOzsS8"
      },
      "execution_count": 56,
      "outputs": []
    },
    {
      "cell_type": "code",
      "source": [
        "phi[8][2] = 0; phi[8][4] = 0; phi[2][8] = 0; phi[4][8] = 0\n",
        "phi[2][3] = 0; phi[4][5] = 0; phi[5][4] = 0; phi[5][2] = 0\n",
        "phi[3][6] = 0; phi[3][1] = 0; phi[1][3] = 0; phi[5][6] = 0\n",
        "phi[6][5] = 0; phi[4][7] = 0; phi[7][6] = 0; phi[7][1] = 0\n",
        "phi[1][7] = 0"
      ],
      "metadata": {
        "id": "3SpC_z2Jz4f8"
      },
      "execution_count": 57,
      "outputs": []
    },
    {
      "cell_type": "code",
      "source": [
        "Flows(G)"
      ],
      "metadata": {
        "id": "jXvA5lG8z_Do",
        "outputId": "51f4d7d3-22a7-4a02-edaa-f0af4f4684d9",
        "colab": {
          "base_uri": "https://localhost:8080/"
        }
      },
      "execution_count": 58,
      "outputs": [
        {
          "output_type": "stream",
          "name": "stdout",
          "text": [
            "(3, 1)  has flow  0\n",
            "(5, 4)  has flow  0\n",
            "(7, 6)  has flow  0\n",
            "(1, 3)  has flow  0\n",
            "(4, 7)  has flow  0\n",
            "(2, 8)  has flow  0\n",
            "(5, 2)  has flow  0\n",
            "(8, 4)  has flow  0\n",
            "(7, 1)  has flow  0\n",
            "(6, 5)  has flow  0\n",
            "(2, 3)  has flow  0\n",
            "(4, 5)  has flow  0\n",
            "(1, 7)  has flow  0\n",
            "(5, 6)  has flow  0\n",
            "(4, 8)  has flow  0\n",
            "(3, 6)  has flow  0\n",
            "(8, 2)  has flow  0\n",
            "Total Cost is  0\n"
          ]
        }
      ]
    },
    {
      "cell_type": "code",
      "source": [
        "Iterate(G)"
      ],
      "metadata": {
        "id": "D9hamI4L0C3T",
        "outputId": "39505eac-3e00-4843-b038-62ef61975ee9",
        "colab": {
          "base_uri": "https://localhost:8080/"
        }
      },
      "execution_count": 59,
      "outputs": [
        {
          "output_type": "stream",
          "name": "stdout",
          "text": [
            "Incremental Network: {(3, 1), (5, 4), (7, 6), (1, 3), (4, 7), (2, 8), (5, 2), (8, 4), (7, 1), (6, 5), (2, 3), (4, 5), (1, 7), (5, 6), (4, 8), (3, 6), (8, 2)}\n",
            "Paths from source to sink:  {(1, 7, 6, 5, 4, 8), (1, 3, 6, 5, 2, 8), (1, 3, 6, 5, 4, 8), (1, 7, 6, 5, 2, 8)}\n",
            "A best path in Gp is  (1, 7, 6, 5, 4, 8)  of minimum cost  0\n",
            "The min capacity on this path is epsilon  4\n",
            "The min cost is  0\n",
            "(3, 1)  flow =  0\n",
            "(5, 4)  flow =  4\n",
            "(7, 6)  flow =  4\n",
            "(1, 3)  flow =  0\n",
            "(4, 7)  flow =  0\n",
            "(2, 8)  flow =  0\n",
            "(5, 2)  flow =  0\n",
            "(8, 4)  flow =  0\n",
            "(7, 1)  flow =  0\n",
            "(6, 5)  flow =  4\n",
            "(2, 3)  flow =  0\n",
            "(4, 5)  flow =  0\n",
            "(1, 7)  flow =  4\n",
            "(5, 6)  flow =  0\n",
            "(4, 8)  flow =  4\n",
            "(3, 6)  flow =  0\n",
            "(8, 2)  flow =  0\n"
          ]
        }
      ]
    },
    {
      "cell_type": "code",
      "source": [
        "Iterate(G)"
      ],
      "metadata": {
        "id": "sK4WVl9q0EN5",
        "outputId": "13d3c3a8-5f18-4321-c88f-239ba54d37af",
        "colab": {
          "base_uri": "https://localhost:8080/"
        }
      },
      "execution_count": 60,
      "outputs": [
        {
          "output_type": "stream",
          "name": "stdout",
          "text": [
            "Incremental Network: {(2, 8), (7, 1), (6, 5), (8, 4), (3, 1), (2, 3), (6, 7), (4, 5), (5, 6), (3, 6), (8, 2), (1, 3), (4, 7), (5, 2)}\n",
            "Paths from source to sink:  {(1, 3, 6, 5, 2, 8)}\n",
            "A best path in Gp is  (1, 3, 6, 5, 2, 8)  of minimum cost  0\n",
            "The min capacity on this path is epsilon  1\n",
            "The min cost is  0\n",
            "(3, 1)  flow =  0\n",
            "(5, 4)  flow =  4\n",
            "(7, 6)  flow =  4\n",
            "(1, 3)  flow =  1\n",
            "(4, 7)  flow =  0\n",
            "(2, 8)  flow =  1\n",
            "(5, 2)  flow =  1\n",
            "(8, 4)  flow =  0\n",
            "(7, 1)  flow =  0\n",
            "(6, 5)  flow =  5\n",
            "(2, 3)  flow =  0\n",
            "(4, 5)  flow =  0\n",
            "(1, 7)  flow =  4\n",
            "(5, 6)  flow =  0\n",
            "(4, 8)  flow =  4\n",
            "(3, 6)  flow =  1\n",
            "(8, 2)  flow =  0\n"
          ]
        }
      ]
    },
    {
      "cell_type": "code",
      "source": [
        "Iterate(G)"
      ],
      "metadata": {
        "id": "JfuC-0OJ0Fjd",
        "outputId": "f80971ad-547a-4576-c511-59d8a063d815",
        "colab": {
          "base_uri": "https://localhost:8080/"
        }
      },
      "execution_count": 61,
      "outputs": [
        {
          "output_type": "stream",
          "name": "stdout",
          "text": [
            "Incremental Network: {(2, 8), (7, 1), (8, 4), (3, 1), (2, 3), (6, 7), (4, 5), (6, 3), (5, 6), (3, 6), (8, 2), (2, 5), (1, 3), (4, 7), (5, 2)}\n",
            "Paths from source to sink:  set()\n",
            "Maximal flow found: 5  with minimal cost  0\n",
            "(3, 1)  flow =  0\n",
            "(5, 4)  flow =  4\n",
            "(7, 6)  flow =  4\n",
            "(1, 3)  flow =  1\n",
            "(4, 7)  flow =  0\n",
            "(2, 8)  flow =  1\n",
            "(5, 2)  flow =  1\n",
            "(8, 4)  flow =  0\n",
            "(7, 1)  flow =  0\n",
            "(6, 5)  flow =  5\n",
            "(2, 3)  flow =  0\n",
            "(4, 5)  flow =  0\n",
            "(1, 7)  flow =  4\n",
            "(5, 6)  flow =  0\n",
            "(4, 8)  flow =  4\n",
            "(3, 6)  flow =  1\n",
            "(8, 2)  flow =  0\n"
          ]
        }
      ]
    }
  ],
  "metadata": {
    "kernelspec": {
      "display_name": "Python 3 (ipykernel)",
      "language": "python",
      "name": "python3"
    },
    "language_info": {
      "codemirror_mode": {
        "name": "ipython",
        "version": 3
      },
      "file_extension": ".py",
      "mimetype": "text/x-python",
      "name": "python",
      "nbconvert_exporter": "python",
      "pygments_lexer": "ipython3",
      "version": "3.11.4"
    },
    "colab": {
      "provenance": []
    }
  },
  "nbformat": 4,
  "nbformat_minor": 0
}